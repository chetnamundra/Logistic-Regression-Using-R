{
 "cells": [
  {
   "cell_type": "markdown",
   "metadata": {},
   "source": [
    "<a id=\"subsection-one\"></a>\n",
    "## Preparing the Data"
   ]
  },
  {
   "cell_type": "code",
   "execution_count": 2,
   "metadata": {
    "execution": {
     "iopub.execute_input": "2024-02-12T05:06:41.314046Z",
     "iopub.status.busy": "2024-02-12T05:06:41.281465Z",
     "iopub.status.idle": "2024-02-12T05:06:41.793214Z"
    }
   },
   "outputs": [
    {
     "name": "stderr",
     "output_type": "stream",
     "text": [
      "\n",
      "Attaching package: ‘dplyr’\n",
      "\n",
      "\n",
      "The following objects are masked from ‘package:stats’:\n",
      "\n",
      "    filter, lag\n",
      "\n",
      "\n",
      "The following objects are masked from ‘package:base’:\n",
      "\n",
      "    intersect, setdiff, setequal, union\n",
      "\n",
      "\n"
     ]
    },
    {
     "data": {
      "text/plain": [
       "\n",
       "Not Placed     Placed \n",
       "        67        148 "
      ]
     },
     "metadata": {},
     "output_type": "display_data"
    },
    {
     "data": {
      "text/html": [
       "<table class=\"dataframe\">\n",
       "<caption>A matrix: 2 × 1 of type dbl</caption>\n",
       "<thead>\n",
       "\t<tr><th></th><th scope=col>Placed</th></tr>\n",
       "</thead>\n",
       "<tbody>\n",
       "\t<tr><th scope=row>Not Placed</th><td>0</td></tr>\n",
       "\t<tr><th scope=row>Placed</th><td>1</td></tr>\n",
       "</tbody>\n",
       "</table>\n"
      ],
      "text/latex": [
       "A matrix: 2 × 1 of type dbl\n",
       "\\begin{tabular}{r|l}\n",
       "  & Placed\\\\\n",
       "\\hline\n",
       "\tNot Placed & 0\\\\\n",
       "\tPlaced & 1\\\\\n",
       "\\end{tabular}\n"
      ],
      "text/markdown": [
       "\n",
       "A matrix: 2 × 1 of type dbl\n",
       "\n",
       "| <!--/--> | Placed |\n",
       "|---|---|\n",
       "| Not Placed | 0 |\n",
       "| Placed | 1 |\n",
       "\n"
      ],
      "text/plain": [
       "           Placed\n",
       "Not Placed 0     \n",
       "Placed     1     "
      ]
     },
     "metadata": {},
     "output_type": "display_data"
    },
    {
     "data": {
      "text/plain": [
       "\n",
       "  0   1 \n",
       "148  67 "
      ]
     },
     "metadata": {},
     "output_type": "display_data"
    }
   ],
   "source": [
    "library(dplyr)\n",
    "library(ggplot2)\n",
    "location <- \"../input/factors-affecting-campus-placement/Placement_Data_Full_Class.csv\"\n",
    "placement.df <- read.csv(location)\n",
    "# select only relevant columns\n",
    "placement.lr <- placement.df %>% select(ends_with(\"_p\"), -etest_p, status)\n",
    "table(placement.lr$status)\n",
    "contrasts(placement.lr$status) # to check how a variable have been dummyfied\n",
    "# we need Not Placed class to be coded as 1 (positive)\n",
    "placement.lr$status <- ifelse(placement.lr$status == \"Not Placed\", 1, 0)\n",
    "table(placement.lr$status)"
   ]
  },
  {
   "cell_type": "markdown",
   "metadata": {},
   "source": [
    "<a id=\"subsection-two\"></a>\n",
    "## Dividing the data into training and validation data sets"
   ]
  },
  {
   "cell_type": "code",
   "execution_count": 3,
   "metadata": {
    "execution": {
     "iopub.execute_input": "2024-02-12T05:06:45.173051Z",
     "iopub.status.busy": "2024-02-12T05:06:45.169585Z",
     "iopub.status.idle": "2024-02-12T05:06:45.251596Z"
    }
   },
   "outputs": [
    {
     "data": {
      "text/plain": [
       "\n",
       "        0         1 \n",
       "0.6860465 0.3139535 "
      ]
     },
     "metadata": {},
     "output_type": "display_data"
    },
    {
     "data": {
      "text/plain": [
       "\n",
       "        0         1 \n",
       "0.6976744 0.3023256 "
      ]
     },
     "metadata": {},
     "output_type": "display_data"
    }
   ],
   "source": [
    "# Train and Test data\n",
    "library(caTools) # to split data into train and test\n",
    "set.seed(101)\n",
    "sample <- sample.split(placement.lr$status, SplitRatio = 0.80)\n",
    "train.lr = subset(placement.lr, sample == TRUE)\n",
    "test.lr = subset(placement.lr, sample == FALSE)\n",
    "#check the splits\n",
    "prop.table(table(train.lr$status))\n",
    "prop.table(table(test.lr$status))"
   ]
  },
  {
   "cell_type": "markdown",
   "metadata": {},
   "source": [
    "## Building the model - Simple logistic regression\n"
   ]
  },
  {
   "cell_type": "code",
   "execution_count": 5,
   "metadata": {
    "execution": {
     "iopub.execute_input": "2024-02-12T05:06:55.963380Z",
     "iopub.status.busy": "2024-02-12T05:06:55.959546Z",
     "iopub.status.idle": "2024-02-12T05:06:56.018883Z"
    }
   },
   "outputs": [
    {
     "data": {
      "text/plain": [
       "\n",
       "Call:\n",
       "glm(formula = status ~ degree_p, family = binomial, data = train.lr)\n",
       "\n",
       "Deviance Residuals: \n",
       "    Min       1Q   Median       3Q      Max  \n",
       "-1.5666  -0.7899  -0.4726   0.9010   2.6407  \n",
       "\n",
       "Coefficients:\n",
       "            Estimate Std. Error z value Pr(>|z|)    \n",
       "(Intercept) 11.43688    2.24817   5.087 3.63e-07 ***\n",
       "degree_p    -0.18851    0.03509  -5.372 7.79e-08 ***\n",
       "---\n",
       "Signif. codes:  0 ‘***’ 0.001 ‘**’ 0.01 ‘*’ 0.05 ‘.’ 0.1 ‘ ’ 1\n",
       "\n",
       "(Dispersion parameter for binomial family taken to be 1)\n",
       "\n",
       "    Null deviance: 214.05  on 171  degrees of freedom\n",
       "Residual deviance: 173.35  on 170  degrees of freedom\n",
       "AIC: 177.35\n",
       "\n",
       "Number of Fisher Scoring iterations: 5\n"
      ]
     },
     "metadata": {},
     "output_type": "display_data"
    }
   ],
   "source": [
    "# Train the model\n",
    "model.lr <- glm(status ~ degree_p, family = binomial, data = train.lr)\n",
    "summary(model.lr)\n"
   ]
  },
  {
   "cell_type": "code",
   "execution_count": 6,
   "metadata": {
    "execution": {
     "iopub.execute_input": "2024-02-12T05:06:58.393278Z",
     "iopub.status.busy": "2024-02-12T05:06:58.389746Z",
     "iopub.status.idle": "2024-02-12T05:06:58.434016Z"
    }
   },
   "outputs": [
    {
     "data": {
      "text/html": [
       "<style>\n",
       ".dl-inline {width: auto; margin:0; padding: 0}\n",
       ".dl-inline>dt, .dl-inline>dd {float: none; width: auto; display: inline-block}\n",
       ".dl-inline>dt::after {content: \":\\0020\"; padding-right: .5ex}\n",
       ".dl-inline>dt:not(:first-of-type) {padding-left: .5ex}\n",
       "</style><dl class=dl-inline><dt>15</dt><dd>0.881980472246557</dd><dt>17</dt><dd>0.283035018335691</dd><dt>22</dt><dd>0.0100849444740812</dd><dt>25</dt><dd>0.0313978014516484</dd><dt>33</dt><dd>0.253455794561122</dd><dt>35</dt><dd>0.836757465773385</dd></dl>\n"
      ],
      "text/latex": [
       "\\begin{description*}\n",
       "\\item[15] 0.881980472246557\n",
       "\\item[17] 0.283035018335691\n",
       "\\item[22] 0.0100849444740812\n",
       "\\item[25] 0.0313978014516484\n",
       "\\item[33] 0.253455794561122\n",
       "\\item[35] 0.836757465773385\n",
       "\\end{description*}\n"
      ],
      "text/markdown": [
       "15\n",
       ":   0.88198047224655717\n",
       ":   0.28303501833569122\n",
       ":   0.010084944474081225\n",
       ":   0.031397801451648433\n",
       ":   0.25345579456112235\n",
       ":   0.836757465773385\n",
       "\n"
      ],
      "text/plain": [
       "        15         17         22         25         33         35 \n",
       "0.88198047 0.28303502 0.01008494 0.03139780 0.25345579 0.83675747 "
      ]
     },
     "metadata": {},
     "output_type": "display_data"
    },
    {
     "data": {
      "text/html": [
       "<style>\n",
       ".list-inline {list-style: none; margin:0; padding: 0}\n",
       ".list-inline>li {display: inline-block}\n",
       ".list-inline>li:not(:last-child)::after {content: \"\\00b7\"; padding: 0 .5ex}\n",
       "</style>\n",
       "<ol class=list-inline><li>1</li><li>0</li><li>0</li><li>0</li><li>0</li><li>1</li></ol>\n"
      ],
      "text/latex": [
       "\\begin{enumerate*}\n",
       "\\item 1\n",
       "\\item 0\n",
       "\\item 0\n",
       "\\item 0\n",
       "\\item 0\n",
       "\\item 1\n",
       "\\end{enumerate*}\n"
      ],
      "text/markdown": [
       "1. 1\n",
       "2. 0\n",
       "3. 0\n",
       "4. 0\n",
       "5. 0\n",
       "6. 1\n",
       "\n",
       "\n"
      ],
      "text/plain": [
       "[1] 1 0 0 0 0 1"
      ]
     },
     "metadata": {},
     "output_type": "display_data"
    }
   ],
   "source": [
    "# prediction\n",
    "lr.pred <- predict(model.lr, newdata = test.lr, type = \"response\")\n",
    "head(lr.pred)\n",
    "# The probabilities always refer to the class dummy-coded as “1”\n",
    "head(test.lr$status)\n"
   ]
  },
  {
   "cell_type": "markdown",
   "metadata": {},
   "source": [
    "<a id=\"subsection-five\"></a>\n",
    "## Classification Table – Confusion Matrix\n",
    "\n"
   ]
  },
  {
   "cell_type": "code",
   "execution_count": 8,
   "metadata": {
    "execution": {
     "iopub.execute_input": "2024-02-12T05:07:09.311224Z",
     "iopub.status.busy": "2024-02-12T05:07:09.307028Z",
     "iopub.status.idle": "2024-02-12T05:07:09.869450Z"
    }
   },
   "outputs": [
    {
     "name": "stderr",
     "output_type": "stream",
     "text": [
      "\n",
      "Attaching package: ‘gplots’\n",
      "\n",
      "\n",
      "The following object is masked from ‘package:stats’:\n",
      "\n",
      "    lowess\n",
      "\n",
      "\n"
     ]
    },
    {
     "data": {
      "text/html": [
       "<style>\n",
       ".dl-inline {width: auto; margin:0; padding: 0}\n",
       ".dl-inline>dt, .dl-inline>dd {float: none; width: auto; display: inline-block}\n",
       ".dl-inline>dt::after {content: \":\\0020\"; padding-right: .5ex}\n",
       ".dl-inline>dt:not(:first-of-type) {padding-left: .5ex}\n",
       "</style><dl class=dl-inline><dt>15</dt><dd>1</dd><dt>17</dt><dd>0</dd><dt>22</dt><dd>0</dd><dt>25</dt><dd>0</dd><dt>33</dt><dd>0</dd><dt>35</dt><dd>1</dd></dl>\n"
      ],
      "text/latex": [
       "\\begin{description*}\n",
       "\\item[15] 1\n",
       "\\item[17] 0\n",
       "\\item[22] 0\n",
       "\\item[25] 0\n",
       "\\item[33] 0\n",
       "\\item[35] 1\n",
       "\\end{description*}\n"
      ],
      "text/markdown": [
       "15\n",
       ":   117\n",
       ":   022\n",
       ":   025\n",
       ":   033\n",
       ":   035\n",
       ":   1\n",
       "\n"
      ],
      "text/plain": [
       "15 17 22 25 33 35 \n",
       " 1  0  0  0  0  1 "
      ]
     },
     "metadata": {},
     "output_type": "display_data"
    },
    {
     "data": {
      "text/plain": [
       "lr.pred.class\n",
       " 0  1 \n",
       "34  9 "
      ]
     },
     "metadata": {},
     "output_type": "display_data"
    },
    {
     "data": {
      "text/plain": [
       "\n",
       " 0  1 \n",
       "30 13 "
      ]
     },
     "metadata": {},
     "output_type": "display_data"
    },
    {
     "data": {
      "text/plain": [
       "   lr.pred.class\n",
       "     0  1\n",
       "  0 30  0\n",
       "  1  4  9"
      ]
     },
     "metadata": {},
     "output_type": "display_data"
    },
    {
     "data": {
      "image/png": "[encoded data removed]"
     },
     "metadata": {
      "image/png": {
       "height": 420,
       "width": 420
      }
     },
     "output_type": "display_data"
    }
   ],
   "source": [
    "# Classification Table\n",
    "# categorize into groups based on the predicted probability\n",
    "library(gplots)\n",
    "\n",
    "lr.pred.class <- ifelse(lr.pred>=0.5, 1, 0)\n",
    "head(lr.pred.class)\n",
    "table(lr.pred.class)\n",
    "table(test.lr$status)\n",
    "conf.matrix <- table(test.lr$status, lr.pred.class)\n",
    "conf.matrix\n",
    "\n",
    "#format(conf.matrix, digits = 0)  \n",
    "\n",
    "library(gplots)\n",
    "\n",
    "lr.pred.class <- ifelse(lr.pred >= 0.5, 1, 0)\n",
    "conf.matrix <- table(test.lr$status, lr.pred.class)\n",
    "rownames(conf.matrix) <- c(\"Placed\", \"Not Placed\")\n",
    "colnames(conf.matrix) <- c(\"Placed\", \"Not Placed\")\n",
    "\n",
    "# Create the heatmap with color gradient and colorbar\n",
    "heatmap.2(conf.matrix, \n",
    "           col = heat.colors(12),  # Example color palette\n",
    "           dendrogram = \"none\", \n",
    "           key.title = NA,  # Remove key title as it's not applicable here\n",
    "           key.xlab = \"Count\",  # Label for the color key\n",
    "           key.ylab = NULL,  # No label on the color key's y-axis\n",
    "           cellnote = conf.matrix,\n",
    "           notecol = \"black\",\n",
    "           trace = \"none\",  # Remove grid lines\n",
    "           cexRow = 0.8,  # Adjust row name size\n",
    "           cexCol = 0.8   # Adjust column name size\n",
    ")\n",
    "\n",
    "# Customize axis labels\n",
    "title(main = \"Confusion Matrix\", col.main = \"black\")\n",
    "title(xlab = \"Predicted Class\", col.lab = \"black\")\n",
    "title(ylab = \"True Class\", col.lab = \"black\")\n"
   ]
  },
  {
   "cell_type": "code",
   "execution_count": 9,
   "metadata": {
    "execution": {
     "iopub.execute_input": "2024-02-12T05:07:13.913080Z",
     "iopub.status.busy": "2024-02-12T05:07:13.909234Z",
     "iopub.status.idle": "2024-02-12T05:07:13.937031Z"
    }
   },
   "outputs": [
    {
     "data": {
      "text/html": [
       "0.906976744186046"
      ],
      "text/latex": [
       "0.906976744186046"
      ],
      "text/markdown": [
       "0.906976744186046"
      ],
      "text/plain": [
       "[1] 0.9069767"
      ]
     },
     "metadata": {},
     "output_type": "display_data"
    }
   ],
   "source": [
    "# model accuracy\n",
    "mean((test.lr$status == lr.pred.class))"
   ]
  },
  {
   "cell_type": "code",
   "execution_count": 10,
   "metadata": {
    "execution": {
     "iopub.execute_input": "2024-02-12T05:07:17.986740Z",
     "iopub.status.busy": "2024-02-12T05:07:17.981810Z",
     "iopub.status.idle": "2024-02-12T05:07:18.157846Z"
    }
   },
   "outputs": [
    {
     "data": {
      "text/plain": [
       "   lr.pred.class1\n",
       "     0  1\n",
       "  0 27  3\n",
       "  1  2 11"
      ]
     },
     "metadata": {},
     "output_type": "display_data"
    },
    {
     "data": {
      "image/png": "[encoded data removed]"
     },
     "metadata": {
      "image/png": {
       "height": 420,
       "width": 420
      }
     },
     "output_type": "display_data"
    }
   ],
   "source": [
    "# different cut-off\n",
    "lr.pred.class1 <- ifelse(lr.pred>=0.35, 1, 0)\n",
    "conf.matrix1 <- table(test.lr$status, lr.pred.class1)\n",
    "conf.matrix1\n",
    "rownames(conf.matrix) <- c(\"Placed\", \"Not Placed\")\n",
    "colnames(conf.matrix) <- c(\"Placed\", \"Not Placed\")\n",
    "\n",
    "# Create the heatmap with color gradient and colorbar\n",
    "heatmap.2(conf.matrix, \n",
    "           col = heat.colors(12),  # Example color palette\n",
    "           dendrogram = \"none\", \n",
    "           key.title = NA,  # Remove key title as it's not applicable here\n",
    "           key.xlab = \"Count\",  # Label for the color key\n",
    "           key.ylab = NULL,  # No label on the color key's y-axis\n",
    "           cellnote = conf.matrix,\n",
    "           notecol = \"black\",\n",
    "           trace = \"none\",  # Remove grid lines\n",
    "           cexRow = 0.8,  # Adjust row name size\n",
    "           cexCol = 0.8   # Adjust column name size\n",
    ")\n",
    "\n",
    "# Customize axis labels\n",
    "title(main = \"Confusion Matrix\", col.main = \"black\")\n",
    "title(xlab = \"Predicted Class\", col.lab = \"black\")\n",
    "title(ylab = \"True Class\", col.lab = \"black\")\n"
   ]
  },
  {
   "cell_type": "code",
   "execution_count": 11,
   "metadata": {
    "execution": {
     "iopub.execute_input": "2024-02-12T05:07:22.012079Z",
     "iopub.status.busy": "2024-02-12T05:07:22.007921Z",
     "iopub.status.idle": "2024-02-12T05:07:22.659670Z"
    }
   },
   "outputs": [
    {
     "data": {
      "image/png": "[encoded data removed]"
     },
     "metadata": {
      "image/png": {
       "height": 420,
       "width": 420
      }
     },
     "output_type": "display_data"
    }
   ],
   "source": [
    "library(ggplot2)\n",
    "\n",
    "# Generate data for plotting the logistic function\n",
    "degree_percentage <- seq(0, 100, by = 1)\n",
    "log_odds <- 11.43688 - 0.18851 * degree_percentage\n",
    "probability <- exp(log_odds) / (1 + exp(log_odds))\n",
    "\n",
    "# Create a data frame\n",
    "logistic_data <- data.frame(degree_percentage, probability)\n",
    "\n",
    "# Plot the logistic function\n",
    "ggplot(logistic_data, aes(x = degree_percentage, y = probability)) +\n",
    "  geom_line(color = \"blue\", size = 1) +\n",
    "  labs(x = \"Degree Percentage\", y = \"Probability of Not Placed\") +\n",
    "  ggtitle(\"Logistic Regression Curve\") +\n",
    "  theme_minimal()\n"
   ]
  }
 ],
 "metadata": {
  "kaggle": {
   "accelerator": "none",
   "dataSources": [
    {
     "datasetId": 596958,
     "sourceId": 1073629,
     "sourceType": "datasetVersion"
    }
   ],
   "dockerImageVersionId": 29977,
   "isGpuEnabled": false,
   "isInternetEnabled": false,
   "language": "r",
   "sourceType": "notebook"
  },
  "kernelspec": {
   "display_name": "R",
   "language": "R",
   "name": "ir"
  },
  "language_info": {
   "codemirror_mode": "r",
   "file_extension": ".r",
   "mimetype": "text/x-r-source",
   "name": "R",
   "pygments_lexer": "r",
   "version": "3.6.3"
  }
 },
 "nbformat": 4,
 "nbformat_minor": 4
}
